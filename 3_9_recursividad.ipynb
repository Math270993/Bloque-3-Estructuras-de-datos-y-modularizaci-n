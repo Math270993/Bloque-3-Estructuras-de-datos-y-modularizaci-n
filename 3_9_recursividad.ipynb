{
 "cells": [
  {
   "cell_type": "markdown",
   "metadata": {},
   "source": [
    "# 9. Recursividad\n",
    "\n",
    "_¿En qué trabajas? Estoy intentando arreglar los problemas que creé cuando intentaba arreglar los problemas que creé cuando intentaba arreglar los problemas que creé. Y así nació la recursividad._\n",
    "\n",
    "## Función Recursiva para Calcular la Potencia de un Número\n",
    "\n",
    "En este ejercicio, vamos a crear una función recursiva que nos permita calcular la potencia de un número. La idea es que si tenemos un número \\(a\\) y queremos elevarlo a la potencia \\(b\\), la operación se representa como:\n",
    "\n",
    "$$a^b = a \\times a \\times \\dots \\times a$$\n",
    "\n",
    "Donde \\(a\\) se multiplica por sí mismo \\(b\\) veces.\n",
    "\n",
    "Para implementar esto de manera recursiva, consideraremos algunos casos base:\n",
    "\n",
    "1. Si \\(b = 0\\), cualquier número elevado a la potencia de 0 es 1.\n",
    "2. Si la base \\(a = 0\\), el resultado es 0 sin importar el exponente.\n",
    "3. Si \\(b = 1\\), el resultado es simplemente \\(a\\).\n",
    "\n",
    "Con estos casos base en mente, podemos proceder a implementar la función.\n"
   ]
  },
  {
   "cell_type": "code",
   "execution_count": null,
   "id": "4f165876",
   "metadata": {},
   "outputs": [],
   "source": [
    "def potencia(a, b):\n",
    "    # Caso base: cualquier número elevado a 0 es 1\n",
    "    if b == 0:\n",
    "        return 1\n",
    "    # Caso base: 0 elevado a cualquier número es 0\n",
    "    elif a == 0:\n",
    "        return 0\n",
    "    # Caso base: cualquier número elevado a 1 es él mismo\n",
    "    elif b == 1:\n",
    "        return a\n",
    "    # Caso recursivo\n",
    "    else:\n",
    "        return a * potencia(a, b-1)\n",
    "\n",
    "# Pruebas\n",
    "print(potencia(2, 4))  # 16\n",
    "print(potencia(4, 3))  # 64\n",
    "print(potencia(3, 4))  # 81\n"
   ]
  },
  {
   "cell_type": "markdown",
   "metadata": {},
   "source": [
    "## Ejemplos y Aplicaciones\n",
    "\n",
    "A menudo, cuando se busca sobre recursividad, se encuentra el ejemplo clásico de la secuencia de Fibonacci. Sin embargo, en este cuaderno, optaremos por no utilizar ese ejemplo. Queda a cargo del lector pensar en cómo resolver la secuencia de Fibonacci de manera recursiva y explorar otros ejemplos más allá de los típicos.\n",
    "\n",
    "En lugar de Fibonacci, vamos a explorar cómo la recursividad puede ser útil en el procesamiento de texto, utilizando el siguiente ejemplo.\n",
    "\n",
    "### Procesamiento de Texto Recursivo\n",
    "\n",
    "Imaginemos que tenemos un texto con varias palabras, y queremos contar cuántas veces aparece una palabra específica de manera recursiva. Vamos a implementar una función recursiva que realice esta tarea. Para hacerlo más interesante, supongamos que estamos analizando una receta de cocina y queremos contar cuántas veces aparece la palabra \"ingrediente\" en la lista de instrucciones.\n",
    "\n",
    "La idea es que vamos a analizar la receta como una lista de palabras, y recorreremos recursivamente la lista para contar cuántas veces aparece nuestra palabra objetivo.\n"
   ]
  },
  {
   "cell_type": "code",
   "execution_count": null,
   "metadata": {},
   "outputs": [],
   "source": [
    "def contar_palabra(texto, palabra, indice=0):\n",
    "    palabras = texto.split()  # Divide el texto en palabras\n",
    "    if indice >= len(palabras):\n",
    "        return 0  # Caso base: hemos terminado de revisar el texto\n",
    "    # Caso recursivo: suma 1 si la palabra coincide, de lo contrario sigue buscando\n",
    "    return (1 if palabras[indice] == palabra else 0) + contar_palabra(texto, palabra, indice + 1)\n",
    "\n",
    "# Prueba de la función\n",
    "texto_receta = \"ingrediente harina ingrediente agua ingrediente sal ingrediente levadura\"\n",
    "print(contar_palabra(texto_receta, \"ingrediente\"))  # Debería devolver 4\n"
   ]
  },
  {
   "cell_type": "markdown",
   "id": "cffbbc7d",
   "metadata": {},
   "source": [
    "## Desafíos\n",
    "\n",
    "**Desafío 1:**\n",
    "\n",
    "Crea una función recursiva que calcule el máximo común divisor (MCD) de dos números. El MCD de dos números es el número más grande que puede dividir ambos números sin dejar un residuo. Por ejemplo, el MCD de 8 y 12 es 4.\n",
    "\n",
    "Pista: Puedes usar el algoritmo de Euclides, que establece que el MCD de dos números también divide al residuo de su división. Por lo tanto, el MCD de a y b (donde a > b) es el mismo que el MCD de b y a % b."
   ]
  },
  {
   "cell_type": "code",
   "execution_count": null,
   "id": "296ec5f1",
   "metadata": {},
   "outputs": [],
   "source": [
    "def mcd(a, b):\n",
    "    # Caso base:\n",
    "    if b == 0:\n",
    "        return a\n",
    "    # Caso recursivo:\n",
    "    else:\n",
    "        return mcd(b, a % b)\n",
    "\n",
    "# Pruebas:\n",
    "print(mcd(8, 12))   # 4\n",
    "print(mcd(54, 24))  # 6\n",
    "print(mcd(48, 18))  # 6\n",
    "print(mcd(101, 103)) # 1 (Números primos entre sí)"
   ]
  },
  {
   "cell_type": "markdown",
   "id": "f55c9421",
   "metadata": {},
   "source": [
    "Primero se identifica el caso base, que es cuando el segundo número (b) es igual a 0, ya que en ese punto el resultado es simplemente el primer número (a). Luego, se aplica el algoritmo de Euclides, que establece que el MCD de dos números no cambia si reemplaza el número mayor por el residuo de la división entre ambos, es decir, MCD(a, b) = MCD(b, a % b). Con esta idea, se plantea la llamada recursiva de la función, donde en cada paso se reduce el problema a dos números más pequeños hasta llegar al caso base. Finalmente, se hacen pruebas con distintos pares de números para verificar que la función devuelve el resultado correcto."
   ]
  },
  {
   "cell_type": "markdown",
   "id": "6352c301",
   "metadata": {},
   "source": [
    "**Desafío 2:**\n",
    "\n",
    "Utiliza el modulo creado _procesador_texto_ para resaltar recursivamente todas las ocurrencias de una palabra clave en un texto largo."
   ]
  },
  {
   "cell_type": "code",
   "execution_count": null,
   "id": "bc875ff2",
   "metadata": {},
   "outputs": [],
   "source": [
    "# procesador_texto.py\n",
    "\n",
    "def resaltar_palabra(texto, palabra):\n",
    "    \"\"\"\n",
    "    Resalta todas las ocurrencias de 'palabra' en 'texto' usando recursividad.\n",
    "    Ejemplo: \"hola mundo hola\", palabra=\"hola\" -> \"**hola** mundo **hola**\"\n",
    "    \"\"\"\n",
    "    # Caso base: si la palabra ya no aparece en el texto, se devuelve tal cual:\n",
    "    if palabra not in texto:\n",
    "        return texto\n",
    "    \n",
    "    # Busca la primera aparición\n",
    "    indice = texto.find(palabra)\n",
    "    \n",
    "    # Construcción: antes de la palabra + palabra resaltada + resto procesado recursivamente:\n",
    "    return (\n",
    "        texto[:indice] +\n",
    "        f\"**{palabra}**\" +\n",
    "        resaltar_palabra(texto[indice + len(palabra):], palabra)\n",
    "    )"
   ]
  },
  {
   "cell_type": "code",
   "execution_count": null,
   "id": "fd90f635",
   "metadata": {},
   "outputs": [],
   "source": [
    "import procesador_texto\n",
    "\n",
    "# Texto de ejemplo:\n",
    "texto_largo = \"El ingrediente principal es harina. Cada ingrediente debe estar fresco. Otro ingrediente importante es el agua.\"\n",
    "\n",
    "# Se resalta la palabra clave:\n",
    "resultado = procesador_texto.resaltar_palabra(texto_largo, \"ingrediente\")\n",
    "\n",
    "# Se muestra el resultado:\n",
    "print(resultado)"
   ]
  },
  {
   "cell_type": "markdown",
   "id": "259c55b3",
   "metadata": {},
   "source": [
    "Primero se define el módulo procesador_texto.py, donde se implementa una función recursiva llamada resaltar_palabra. Se inicia identificando el caso base, que ocurre cuando la palabra clave ya no aparece en el texto; por lo que se devuelve el texto tal como está. Luego, para el caso recursivo, la función busca la primera aparición de la palabra dentro de la cadena utilizando find(). Una vez localizada, se construye una nueva cadena formada por la parte previa al hallazgo, la palabra resaltada entre ** y el resto del texto, que se vuelve a procesar de forma recursiva para encontrar y resaltar nuevas coincidencias. Finalmente, en el archivo main.py se importa el módulo y se prueba la función con un texto de ejemplo, verificando que todas las ocurrencias de la palabra objetivo aparecen resaltadas."
   ]
  },
  {
   "cell_type": "markdown",
   "id": "67efb274",
   "metadata": {},
   "source": [
    "**Desafío 3:**\n",
    "\n",
    "Crea una función recursiva que invierta las palabras en una oración sin utilizar funciones incorporadas de Python para invertir cadenas o listas."
   ]
  },
  {
   "cell_type": "code",
   "execution_count": null,
   "id": "fd61d218",
   "metadata": {},
   "outputs": [],
   "source": [
    "def invertir_palabras(oracion):\n",
    "    # Se eliminan espacios iniciales para evitar problemas\n",
    "    oracion = oracion.strip()\n",
    "    \n",
    "    # Caso base: si no hay espacios, significa que es solo una palabra\n",
    "    if \" \" not in oracion:\n",
    "        return oracion\n",
    "    \n",
    "    # Se encuentra el primer espacio\n",
    "    indice = oracion.find(\" \")\n",
    "    \n",
    "    # Se separa la primera palabra y el resto\n",
    "    primera_palabra = oracion[:indice]\n",
    "    resto = oracion[indice+1:]\n",
    "    \n",
    "    # Caso recursivo: se invierte el resto y se añade la primera palabra al final\n",
    "    return invertir_palabras(resto) + \" \" + primera_palabra\n",
    "\n",
    "\n",
    "# Ejemplos:\n",
    "print(invertir_palabras(\"hola mundo\"))               \n",
    "print(invertir_palabras(\"la recursividad es útil\"))  \n",
    "print(invertir_palabras(\"Python\"))    "
   ]
  },
  {
   "cell_type": "markdown",
   "id": "df1eeacb",
   "metadata": {},
   "source": [
    "Primero se identifica el caso base, que ocurre cuando la oración no contiene espacios (solo tiene una palabra); en ese caso se devuelve directamente. Luego, para el caso recursivo, se localiza el primer espacio de la oración con find() para separar la primera palabra del resto. A continuación, se utiliza la función recursivamente sobre el resto de la oración, lo que asegura que se vayan invirtiendo progresivamente las palabras. Finalmente, se concatena el resultado de la llamada recursiva con la primera palabra al final, logrando que en cada paso la oración se vaya reconstruyendo en orden inverso."
   ]
  },
  {
   "cell_type": "markdown",
   "id": "3126bebe",
   "metadata": {},
   "source": [
    "**Desafío 4: El Mono que cuenta manzana**\n",
    "\n",
    "Imagina que tenemos un mono que intenta contar manzanas. Sin embargo, nuestro mono es un poco distraído y olvida cuántos manzanas ha contado cada vez que empieza a contar de nuevo. Cada vez que termina una secuencia de conteo, se olvida de los manzanas contados antes y vuelve a empezar, sumando todos desde el principio. Implementa una función recursiva que simule cómo el mono cuenta manzanas.\n",
    "\n",
    "Reglas:\n",
    "- El mono puede contar un manzana a la vez.\n",
    "- Cada vez que el mono termina de contar una pila de manzanas, tiene que volver a contar desde cero, pero sigue acumulando el total.\n",
    "\n",
    "Por ejemplo:\n",
    "- Si el mono tiene 5 manzanas en la pila, contará uno por uno, luego olvida y vuelve a empezar, acumulando la suma."
   ]
  },
  {
   "cell_type": "code",
   "execution_count": null,
   "id": "e39296cd",
   "metadata": {},
   "outputs": [],
   "source": [
    "def mono_cuenta_manzanas(n):\n",
    "    \"\"\"\n",
    "    Simula cómo un mono distraído cuenta manzanas.\n",
    "    Cada vez que cuenta una manzana, olvida y vuelve a empezar.\n",
    "    \"\"\"\n",
    "    # Caso base: si no hay manzanas, el total es 0\n",
    "    if n == 0:\n",
    "        return 0\n",
    "    \n",
    "    # Caso recursivo: el mono cuenta esta manzana y vuelve a contar el resto\n",
    "    return n + mono_cuenta_manzanas(n-1)\n",
    "\n",
    "\n",
    "# Ejemplo:\n",
    "print(mono_cuenta_manzanas(1))  \n",
    "print(mono_cuenta_manzanas(2))  \n",
    "print(mono_cuenta_manzanas(5))  "
   ]
  },
  {
   "cell_type": "markdown",
   "id": "3092aa75",
   "metadata": {},
   "source": [
    "Primero se identifica el caso base, que ocurre cuando no quedan más manzanas en la pila; por lo que la función devuelve 0, indicando que no hay más conteos que realizar. Luego, para el caso recursivo, se toma la cantidad actual de manzanas n y se suma al resultado de llamar nuevamente a la función con n-1, representando que el mono cuenta una manzana, olvida y vuelve a empezar con el resto. Cada llamada recursiva acumula el total de manzanas contadas en los reinicios anteriores, hasta que se llega al caso base. "
   ]
  },
  {
   "cell_type": "markdown",
   "metadata": {},
   "source": [
    "---\n",
    "\n",
    "Para más detalles y ejemplos sobre recursividad, puedes consultar la [referencia proporcionada](https://www.tutorialesprogramacionya.com/pythonya/detalleconcepto.php?punto=90&codigo=91&inicio=75#:~:text=En%20Python%20las%20funciones%20o,nuevas%20variables%20locales%20y%20par%C3%A1metros.)."
   ]
  }
 ],
 "metadata": {
  "kernelspec": {
   "display_name": "venv",
   "language": "python",
   "name": "python3"
  },
  "language_info": {
   "codemirror_mode": {
    "name": "ipython",
    "version": 3
   },
   "file_extension": ".py",
   "mimetype": "text/x-python",
   "name": "python",
   "nbconvert_exporter": "python",
   "pygments_lexer": "ipython3",
   "version": "3.11.1"
  }
 },
 "nbformat": 4,
 "nbformat_minor": 5
}
