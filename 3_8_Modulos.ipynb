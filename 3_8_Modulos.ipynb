{
 "cells": [
  {
   "cell_type": "markdown",
   "id": "5cf1685f",
   "metadata": {},
   "source": [
    "# Módulos"
   ]
  },
  {
   "cell_type": "markdown",
   "id": "b3a1d3c7",
   "metadata": {},
   "source": [
    "## Introducción a los módulos en Python:\n",
    "\n",
    "Al construir nuestro procesador de texto, nos damos cuenta de que algunas funciones y características que necesitamos ya existen y han sido implementadas por otros desarrolladores. En lugar de reinventar la rueda, podemos aprovechar estos conjuntos de funciones utilizando módulos en Python. Un módulo es simplemente un archivo que contiene definiciones, funciones y variables que podemos importar a nuestro código para reutilizar y simplificar nuestro trabajo.\n",
    "\n",
    "De hecho, probablemente ya hayas utilizado módulos sin darte cuenta, mediante la instrucción \"import\". Por ejemplo, si alguna vez has usado funciones matemáticas como \"sqrt\" o \"pi\", lo más probable es que hayas importado el módulo `math` para acceder a ellas, para ser más exacto:\n"
   ]
  },
  {
   "cell_type": "code",
   "execution_count": null,
   "id": "ecdfdd78",
   "metadata": {},
   "outputs": [],
   "source": [
    "import math\n",
    "\n",
    "# Usamos la función sqrt para calcular la raíz cuadrada\n",
    "resultado = math.sqrt(16)"
   ]
  },
  {
   "cell_type": "markdown",
   "id": "6251d15c",
   "metadata": {},
   "source": [
    "## ¿Por qué usar módulos?"
   ]
  },
  {
   "cell_type": "markdown",
   "id": "c8c0b883",
   "metadata": {},
   "source": [
    "\n",
    "Utilizar módulos nos permite mantener nuestro código organizado, reutilizar código y compartir funcionalidades entre diferentes proyectos. Imagina que en nuestro procesador de texto quisiéramos añadir la capacidad de trabajar con fechas, como añadir fechas de creación o modificación a los documentos. En lugar de escribir todo el código desde cero para manejar fechas, podemos utilizar el módulo `datetime` de Python.\n",
    "\n",
    "Es importante mencionar que no todos los módulos están incluidos en la instalación base de Python. Algunos módulos de terceros deben ser instalados antes de poder usarlos. Estos suelen instalarse utilizando herramientas como `pip`, que es el gestor de paquetes de Python. Por ejemplo, si quisiéramos utilizar un módulo especializado para manejar archivos PDF, tendríamos que buscar un módulo de terceros, instalarlo con `pip`, y luego importarlo en nuestro código. Por ejemplo, para instalar el módulo pyPDF, podemos utilizar el siguiente comando:\n"
   ]
  },
  {
   "cell_type": "code",
   "execution_count": null,
   "id": "9edb08fb",
   "metadata": {},
   "outputs": [],
   "source": [
    "pip install pypdf"
   ]
  },
  {
   "cell_type": "markdown",
   "id": "d2c20c1e",
   "metadata": {},
   "source": [
    "*Nota: Los módulos de terceros en Python que se pueden instalar mediante `pip` provienen de un repositorio central llamado PyPI (Python Package Index). Antes de que los paquetes se publiquen en PyPI, son revisados y validados para asegurar su <span style=\"color:skyblue\"> calidad y seguridad. </span> Además, la comunidad de Python está atenta para detectar y resolver posibles problemas de seguridad en los paquetes.*"
   ]
  },
  {
   "cell_type": "markdown",
   "id": "070311ef",
   "metadata": {},
   "source": [
    "## Importando un módulo completo\n",
    "\n",
    "Para usar un módulo, primero debemos importarlo. A continuación, un ejemplo utilizando el módulo datetime."
   ]
  },
  {
   "cell_type": "code",
   "execution_count": null,
   "id": "6286a405",
   "metadata": {},
   "outputs": [],
   "source": [
    "import datetime\n",
    "\n",
    "fecha_actual = datetime.datetime.now()\n",
    "print(f\"La fecha y hora actuales son: {fecha_actual}\")\n"
   ]
  },
  {
   "cell_type": "markdown",
   "id": "a7744ad2",
   "metadata": {},
   "source": [
    "El módulo `datetime` viene en la instalación estándar de Python que proporciona funciones para manipular fechas y tiempos de manera sencilla y eficiente. Este módulo permite realizar operaciones como obtener la fecha y hora actuales, calcular diferencias entre fechas, o formatear fechas de diversas maneras.\n",
    "\n",
    "Lo interesante de `datetime` es que se basa en la configuración del reloj de tu computadora para obtener la fecha y la hora. Esto significa que al usar funciones como \"datetime.datetime.now()\", el valor retornado refleja la hora local configurada en el sistema en el que se está ejecutando el código."
   ]
  },
  {
   "cell_type": "markdown",
   "id": "26258a1e",
   "metadata": {},
   "source": [
    "## Importando solo partes de un módulo\n",
    "\n",
    "En ocasiones, solo necesitamos una función o clase específica de un módulo. En lugar de importar todo el módulo, lo cual puede ser innecesario y consumir más recursos, podemos optar por importar solo la parte que realmente necesitamos. Esto no solo hace que nuestro código sea más eficiente, sino que también lo vuelve más legible y fácil de mantener."
   ]
  },
  {
   "cell_type": "code",
   "execution_count": null,
   "id": "83781614",
   "metadata": {},
   "outputs": [],
   "source": [
    "from datetime import datetime\n",
    "\n",
    "fecha_actual = datetime.now()\n",
    "print(f\"La fecha y hora actuales son: {fecha_actual}\")\n"
   ]
  },
  {
   "cell_type": "markdown",
   "id": "9526f068",
   "metadata": {},
   "source": [
    "## Renombrando módulos al importar\n",
    "\n",
    "A veces, por conveniencia o para evitar conflictos, podemos querer renombrar un módulo o parte de él al importarlo.\n",
    "¿Hay alguna manera de reducir \"datetime\" para no repetir todo el tiempo? Claro que si! el \"as\" permite abreviar el nombre del modulo que quieras importar."
   ]
  },
  {
   "cell_type": "code",
   "execution_count": null,
   "id": "eba94b52",
   "metadata": {},
   "outputs": [],
   "source": [
    "import datetime as dt\n",
    "\n",
    "fecha_actual = dt.datetime.now()\n",
    "print(f\"La fecha y hora actuales son: {fecha_actual}\")\n"
   ]
  },
  {
   "cell_type": "markdown",
   "id": "3efdc816",
   "metadata": {},
   "source": [
    "En este ejemplo, hemos renombrado el módulo `datetime` como `dt`, lo que nos permite utilizar un nombre más corto y cómodo sin sacrificar la funcionalidad. Esta práctica es especialmente útil cuando trabajamos con módulos cuyos nombres son largos o repetitivos, ya que reduce la cantidad de escritura y mejora la legibilidad del código, al igual que algunas abreviaturas se han vuelto casi universales para referirse a ciertos módulos."
   ]
  },
  {
   "cell_type": "markdown",
   "id": "3258fb88",
   "metadata": {},
   "source": [
    "## Módulos personalizados\n",
    "\n",
    "En Python, no solo podemos aprovechar los módulos estándar y de terceros, sino que también tenemos la libertad de crear nuestros propios módulos. Supongamos que, en el proceso de desarrollo de nuestro procesador de texto, hemos escrito varias funciones que nos ayudan a contar palabras, verificar la ortografía y ajustar márgenes. En lugar de escribir estas funciones una y otra vez en diferentes proyectos, podemos agruparlas y guardarlas en un archivo separado para reutilizarlas.\n",
    "\n",
    "Por ejemplo, imagina que hemos creado las siguientes funciones:"
   ]
  },
  {
   "cell_type": "code",
   "execution_count": null,
   "id": "caa6ac25",
   "metadata": {},
   "outputs": [],
   "source": [
    "# procesador_texto.py\n",
    "\n",
    "def contar_palabras(texto):\n",
    "    return len(texto.split())\n",
    "\n",
    "def verificar_ortografia(texto):\n",
    "    # Simulamos una función que verifica la ortografía.\n",
    "    # En una aplicación real, esto podría ser más complejo.\n",
    "    return \"Ortografía verificada.\"\n",
    "\n",
    "def ajustar_margenes(texto, margen_izquierdo=10, margen_derecho=10):\n",
    "    return ' ' * margen_izquierdo + texto + ' ' * margen_derecho"
   ]
  },
  {
   "cell_type": "markdown",
   "id": "b8ffbdf6",
   "metadata": {},
   "source": [
    "Una vez guardadas en el archivo procesador_texto.py, podemos importar este módulo personalizado en otros programas:"
   ]
  },
  {
   "cell_type": "code",
   "execution_count": null,
   "id": "02d0407f",
   "metadata": {},
   "outputs": [],
   "source": [
    "#from procesador_texto import contar_palabras, verificar_ortografia, ajustar_margenes\n",
    "\n",
    "texto = \"El procesamiento de texto en Python es poderoso.\"\n",
    "print(contar_palabras(texto))  # Imprime: 8\n",
    "print(verificar_ortografia(texto))  # Imprime: Ortografía verificada.\n",
    "print(ajustar_margenes(texto, 5, 5))  # Ajusta los márgenes del texto"
   ]
  },
  {
   "cell_type": "markdown",
   "id": "755e37df",
   "metadata": {},
   "source": [
    "Al importar nuestro módulo personalizado, podemos acceder y utilizar las funciones que contiene, facilitando la reutilización de código y manteniendo nuestros programas principales más limpios y organizados."
   ]
  },
  {
   "cell_type": "markdown",
   "id": "805c5029",
   "metadata": {},
   "source": [
    "\n",
    "## Desafíos\n"
   ]
  },
  {
   "cell_type": "markdown",
   "id": "7c9c2813",
   "metadata": {},
   "source": [
    "**Desafio 0:**\n",
    "\n",
    "Utiliza el módulo `random` para crear un programa que genere un número aleatorio entre 1 y 100."
   ]
  },
  {
   "cell_type": "code",
   "execution_count": null,
   "id": "4d041614",
   "metadata": {},
   "outputs": [],
   "source": [
    "import random\n",
    "\n",
    "# Se genera un número aleatorio entre 1 y 100\n",
    "numero_aleatorio = random.randint(1, 100)\n",
    "\n",
    "# Se muestra el número generado\n",
    "print(f\"El número aleatorio generado es: {numero_aleatorio}\")\n"
   ]
  },
  {
   "cell_type": "markdown",
   "id": "f326e631",
   "metadata": {},
   "source": [
    "Para desarrollar el programa , primero se debe importar el módulo random, que contiene funciones para trabajar con valores aleatorios. Luego, se utiliza la función randint(1, 100) del módulo, la cual genera un número entero al azar dentro del rango indicado, incluyendo ambos extremos. Este número se guarda en una variable, por ejemplo numero_aleatorio. Finalmente, se utiliza la función print() para mostrar en pantalla el número generado."
   ]
  },
  {
   "cell_type": "markdown",
   "id": "c9f765e2",
   "metadata": {},
   "source": [
    "**Desafío 1:**\n",
    "\n",
    "Investiga y utiliza al menos tres funciones del módulo `string` que puedan ser útiles para mejorar nuestro procesador de texto."
   ]
  },
  {
   "cell_type": "code",
   "execution_count": null,
   "id": "5ffab38a",
   "metadata": {},
   "outputs": [],
   "source": [
    "import string\n",
    "\n",
    "texto = \"Hola, mundo! 123\"\n",
    "solo_letras = ''.join([c for c in texto if c in string.ascii_letters])\n",
    "print(solo_letras) \n"
   ]
  },
  {
   "cell_type": "markdown",
   "id": "51ab1395",
   "metadata": {},
   "source": [
    "string.ascii_letters: proporciona una cadena con todas las letras del alfabeto en mayúsculas y minúsculas.\n",
    "Puede utilizarse para filtrar caracteres no alfabéticos, por ejemplo, para contar solo las palabras que contienen letras o validar nombres sin símbolos ni números."
   ]
  },
  {
   "cell_type": "code",
   "execution_count": null,
   "id": "e70aafb0",
   "metadata": {},
   "outputs": [],
   "source": [
    "import string\n",
    "\n",
    "texto = \"¡Hola, mundo! ¿Cómo estás?\"\n",
    "sin_puntuacion = ''.join([c for c in texto if c not in string.punctuation])\n",
    "print(sin_puntuacion)\n"
   ]
  },
  {
   "cell_type": "markdown",
   "id": "fa6c401e",
   "metadata": {},
   "source": [
    "string.punctuation: contiene todos los signos de puntuación estándar: '!\"#$%&\\'()*+,-./:;<=>?@[\\\\]^_{|}~'`\n",
    "Es muy útil para eliminar o identificar signos de puntuación cuando se quiere analizar el contenido del texto (por ejemplo, al contar palabras o verificar ortografía sin símbolos molestos)."
   ]
  },
  {
   "cell_type": "code",
   "execution_count": null,
   "id": "27d31458",
   "metadata": {},
   "outputs": [],
   "source": [
    "import string\n",
    "\n",
    "texto = \"el señor de los anillos\"\n",
    "titulo = string.capwords(texto)\n",
    "print(titulo)\n"
   ]
  },
  {
   "cell_type": "markdown",
   "id": "b7f6b093",
   "metadata": {},
   "source": [
    "string.capwords(): convierte el texto para que cada palabra comience con mayúscula.\n",
    "Es ideal para formatear títulos, nombres o encabezados de manera más estética en un procesador de texto."
   ]
  },
  {
   "cell_type": "markdown",
   "id": "51a97b5a",
   "metadata": {},
   "source": [
    "**Desafío 2:**\n",
    "\n",
    "Utiliza el módulo `random` de Python para crear un programa que genere una contraseña aleatoria de 8 caracteres que incluya letras minúsculas, letras mayúsculas y números."
   ]
  },
  {
   "cell_type": "code",
   "execution_count": null,
   "id": "2dcb3c9b",
   "metadata": {},
   "outputs": [],
   "source": [
    "import random\n",
    "import string\n",
    "\n",
    "# Se define los posibles caracteres: letras minúsculas, mayúsculas y dígitos\n",
    "caracteres = string.ascii_letters + string.digits  # ascii_letters = minúsculas + mayúsculas\n",
    "\n",
    "# Se genera una contraseña de 8 caracteres eligiendo aleatoriamente de la lista\n",
    "contraseña = ''.join(random.choice(caracteres) for _ in range(8))\n",
    "\n",
    "# Se muestra la contraseña generada\n",
    "print(f\"Tu contraseña aleatoria es: {contraseña}\")\n"
   ]
  },
  {
   "cell_type": "markdown",
   "id": "d1667fdb",
   "metadata": {},
   "source": [
    "Primero se importan los módulos random (permite seleccionar elementos al azar) y string (proporciona listas predefinidas de caracteres). Luego, se crea una cadena llamada caracteres que combina las letras mayúsculas y minúsculas (string.ascii_letters) con los números (string.digits). Con la función random.choice(), se selecciona un carácter aleatorio de esa lista en cada iteración de un bucle que se repite ocho veces. Los caracteres obtenidos se concatenan usando ''.join(...) para formar la contraseña final, la cual se muestra en pantalla con la función print()."
   ]
  },
  {
   "cell_type": "markdown",
   "id": "83f35056",
   "metadata": {},
   "source": [
    "**Desafío 3:**\n",
    "\n",
    "Crea un módulo personalizado que contenga funciones para cambiar el formato del texto (por ejemplo, a negrita, itálica, etc.) e impórtalo en un nuevo programa."
   ]
  },
  {
   "cell_type": "code",
   "execution_count": null,
   "id": "04fba280",
   "metadata": {},
   "outputs": [],
   "source": [
    "# formato_texto.py\n",
    "\n",
    "# Texto en negrita\n",
    "def negrita(texto):\n",
    "    return f\"\\033[1m{texto}\\033[0m\"\n",
    "\n",
    "# Texto en itálica\n",
    "def italica(texto):\n",
    "    return f\"\\033[3m{texto}\\033[0m\"\n",
    "\n",
    "# Texto subrayado\n",
    "def subrayado(texto):\n",
    "    return f\"\\033[4m{texto}\\033[0m\"\n"
   ]
  },
  {
   "cell_type": "code",
   "execution_count": null,
   "id": "eba99c88",
   "metadata": {},
   "outputs": [],
   "source": [
    "# main.py\n",
    "import formato_texto as ft \n",
    "texto = \"Hola mundo\"\n",
    "\n",
    "print(ft.negrita(texto))\n",
    "print(ft.italica(texto))\n",
    "print(ft.subrayado(texto))\n"
   ]
  },
  {
   "cell_type": "markdown",
   "id": "c6b893bb",
   "metadata": {},
   "source": [
    "Se crea un módulo personalizado llamado formato_texto.py que contiene funciones para aplicar estilos al texto (negrita, itálica y subrayado) utilizando códigos de escape ANSI (permiten modificar la apariencia del texto en la consola). Luego, en un archivo principal llamado main.py, se importa el módulo con la instrucción import formato_texto as ft, esto permite usar las funciones definidas en él. De esta manera, al pasar un texto como argumento a cada función, el programa devuelve y muestra el mismo mensaje con el formato elegido, logrando separar la lógica de formateo en un módulo reutilizable y manteniendo el código principal."
   ]
  },
  {
   "cell_type": "markdown",
   "id": "41ccace2",
   "metadata": {},
   "source": [
    "**Desafío 4:**\n",
    "\n",
    "Utiliza el módulo `collections` para analizar un texto y generar estadísticas avanzadas, \n",
    "como las 10 palabras más comunes y su frecuencia. \n",
    "Extiende esto creando un gráfico de barras con matplotlib para visualizar la frecuencia de las palabras."
   ]
  },
  {
   "cell_type": "code",
   "execution_count": null,
   "id": "c7d06251",
   "metadata": {},
   "outputs": [],
   "source": [
    "import collections\n",
    "import matplotlib.pyplot as plt\n",
    "\n",
    "# Texto de ejemplo\n",
    "texto = \"\"\"\n",
    "María Chucena techaba su choza y un techador que por ahí pasaba le dijo: \n",
    "- María Chucena ¿tú techas tu choza o techas la ajena? \n",
    "- Ni techo mi choza ni techo la ajena, techo la choza de María Chucena.\n",
    "\"\"\"\n",
    "\n",
    "# Se normaliza el texto: se pasa a minúsculas y se quita puntuación\n",
    "texto = texto.lower()\n",
    "for simbolo in \",.:\\n\":\n",
    "    texto = texto.replace(simbolo, \" \")\n",
    "\n",
    "# Se separa el texto en palabras\n",
    "palabras = texto.split()\n",
    "\n",
    "# Se usa collections.Counter para contar la frecuencia de cada palabra\n",
    "contador = collections.Counter(palabras)\n",
    "\n",
    "# Se obtiene las 10 palabras más comunes\n",
    "mas_comunes = contador.most_common(10)\n",
    "print(\"Las 10 palabras más comunes son:\\n\")\n",
    "for palabra, frecuencia in mas_comunes:\n",
    "    print(f\"{palabra}: {frecuencia}\")\n",
    "\n",
    "# Se preparan datos para el gráfico\n",
    "palabras, frecuencias = zip(*mas_comunes)\n",
    "\n",
    "# Se crea un gráfico de barras\n",
    "plt.bar(palabras, frecuencias)\n",
    "plt.xlabel(\"Palabras\")\n",
    "plt.ylabel(\"Frecuencia\")\n",
    "plt.title(\"Top 10 palabras más comunes en el texto\")\n",
    "plt.show()"
   ]
  },
  {
   "cell_type": "markdown",
   "id": "6ff11ee7",
   "metadata": {},
   "source": [
    "Se importa collections.Counter para contar la frecuencia de palabras y matplotlib.pyplot para graficar. El texto se convierte a minúsculas y se eliminan símbolos como comas o puntos para evitar que influyan en el conteo. Luego, se separa en palabras con .split(). Counter(palabras) genera un conteo de ocurrencias, y con .most_common(10) se obtienen las 10 más repetidas. Finalmente, se genera un gráfico de barras con matplotlib para visualizar de manera clara la frecuencia de cada palabra."
   ]
  },
  {
   "cell_type": "markdown",
   "id": "ad90daba",
   "metadata": {},
   "source": [
    "**Desafío 5:**\n",
    "\n",
    "Utiliza el módulo `os` para interactuar con el sistema operativo y añade características como guardar un archivo o leer un archivo existente en nuestro procesador de texto."
   ]
  },
  {
   "cell_type": "code",
   "execution_count": null,
   "id": "96a847e9",
   "metadata": {},
   "outputs": [],
   "source": [
    "import os\n",
    "\n",
    "def guardar_archivo(nombre, contenido):\n",
    "    \"\"\"Guarda el contenido en un archivo de texto\"\"\"\n",
    "    with open(nombre, \"w\", encoding=\"utf-8\") as archivo:\n",
    "        archivo.write(contenido)\n",
    "    print(f\"Archivo '{nombre}' guardado correctamente.\")\n",
    "\n",
    "def leer_archivo(nombre):\n",
    "    \"\"\"Lee y muestra el contenido de un archivo si existe\"\"\"\n",
    "    if os.path.exists(nombre):\n",
    "        with open(nombre, \"r\", encoding=\"utf-8\") as archivo:\n",
    "            contenido = archivo.read()\n",
    "        print(f\"\\nContenido de '{nombre}':\\n{contenido}\")\n",
    "    else:\n",
    "        print(f\"El archivo '{nombre}' no existe.\")\n",
    "\n",
    "# Programa principal\n",
    "texto = input(\"Escribe el contenido de tu documento: \")\n",
    "nombre_archivo = \"mi_documento.txt\"\n",
    "\n",
    "# sE guardar_archivouarda el texto en un archivo\n",
    "guardar_archivo(nombre_archivo, texto)\n",
    "\n",
    "# Se pregunta si desea leerlo\n",
    "opcion = input(\"¿Quieres leer el archivo guardado? (s/n): \").lower()\n",
    "if opcion == \"s\":\n",
    "    leer_archivo(nombre_archivo)\n"
   ]
  },
  {
   "cell_type": "markdown",
   "id": "d22a082f",
   "metadata": {},
   "source": [
    "Se importa el módulo os para poder comprobar la existencia de archivos con os.path.exists(). La función guardar_archivo() crea (o sobrescribe) un archivo .txt y guarda el texto escrito por el usuario. La función leer_archivo() revisa si el archivo existe antes de abrirlo, evitando errores, y luego muestra su contenido. En el programa principal, el usuario escribe su texto, este se guarda en mi_documento.txt, y luego se le pregunta si quiere leerlo."
   ]
  },
  {
   "cell_type": "markdown",
   "id": "9b10274e",
   "metadata": {},
   "source": [
    "**Desafio 6:**\n",
    "\n",
    "Calculadora de Fechas\n",
    "Objetivo:\n",
    "Escribir un programa en Python que permita calcular la diferencia entre dos fechas, utilizando el módulo `datetime.`"
   ]
  },
  {
   "cell_type": "code",
   "execution_count": null,
   "id": "354163e9",
   "metadata": {},
   "outputs": [],
   "source": [
    "from datetime import datetime\n",
    "\n",
    "print(\"Calculadora de Diferencia entre Fechas\")\n",
    "\n",
    "# Se le pide al usuario dos fechas en formato día/mes/año\n",
    "fecha1_str = input(\"Ingresa la primera fecha (dd/mm/aaaa): \")\n",
    "fecha2_str = input(\"Ingresa la segunda fecha (dd/mm/aaaa): \")\n",
    "\n",
    "# Se convierte las cadenas a objetos datetime\n",
    "fecha1 = datetime.strptime(fecha1_str, \"%d/%m/%Y\")\n",
    "fecha2 = datetime.strptime(fecha2_str, \"%d/%m/%Y\")\n",
    "\n",
    "# Se calcula la diferencia\n",
    "diferencia = abs(fecha2 - fecha1)\n",
    "\n",
    "# Se muestra resultados\n",
    "print(f\"\\nLa diferencia entre las fechas es de: {diferencia.days} días.\")\n",
    "print(f\"Equivalente a {diferencia.days // 30} meses aproximados.\")\n",
    "print(f\"O a {diferencia.days // 365} años aproximados.\")\n"
   ]
  },
  {
   "cell_type": "markdown",
   "id": "e8e12780",
   "metadata": {},
   "source": [
    "Se importa datetime desde el módulo datetime. El usuario ingresa dos fechas en formato dd/mm/aaaa. Con datetime.strptime() se convierten las cadenas en objetos de fecha. Se restan las dos fechas (fecha2 - fecha1) obtenemos un objeto timedelta, que indica la diferencia en días. Finalmente, se muestra la cantidad de días exactos y una aproximación en meses y años."
   ]
  }
 ],
 "metadata": {
  "kernelspec": {
   "display_name": "Python 3",
   "language": "python",
   "name": "python3"
  },
  "language_info": {
   "codemirror_mode": {
    "name": "ipython",
    "version": 3
   },
   "file_extension": ".py",
   "mimetype": "text/x-python",
   "name": "python",
   "nbconvert_exporter": "python",
   "pygments_lexer": "ipython3",
   "version": "3.12.2"
  }
 },
 "nbformat": 4,
 "nbformat_minor": 5
}
