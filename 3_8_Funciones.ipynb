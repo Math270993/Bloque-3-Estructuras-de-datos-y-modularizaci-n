{
 "cells": [
  {
   "cell_type": "markdown",
   "id": "fe918077",
   "metadata": {},
   "source": [
    "# Funciones\n"
   ]
  },
  {
   "cell_type": "markdown",
   "id": "d9a1caf1",
   "metadata": {},
   "source": [
    "### Introducción a las funciones:\n",
    "\n",
    "En el mundo de la programación, a menudo nos encontramos realizando las mismas tareas repetidamente. Las funciones son una manera de encapsular esas tareas en bloques de código reutilizables. Ya hemos tenido un primer contacto con ellas, particularmente en el desafío de la batalla naval, donde utilizamos funciones para estructurar la creación del tablero y los barcos. Este cuaderno se adentrará más en el poder y flexibilidad que ofrecen las funciones en Python.\n"
   ]
  },
  {
   "cell_type": "markdown",
   "id": "8138759e",
   "metadata": {},
   "source": [
    "### ¿Qué es una función?\n",
    "\n",
    "Una función es, en esencia, una secuencia de instrucciones que realiza una tarea específica. Al encapsular estas instrucciones dentro de una función, obtenemos varios beneficios: modularidad, legibilidad y reusabilidad del código. Imagina las funciones como pequeñas máquinas: les das cierta entrada, realizan una operación y te devuelven un resultado.\n"
   ]
  },
  {
   "cell_type": "markdown",
   "id": "cc6007dc",
   "metadata": {},
   "source": [
    "### Definición y llamada de funciones:\n",
    "\n",
    "Las funciones en Python se definen utilizando la palabra clave `def`, seguida de un nombre descriptivo y paréntesis. Este nombre es el que se usará posteriormente para 'invocar' o 'llamar' a la función y ejecutar el bloque de código que contiene. La sintaxis es esencial para garantizar que tu código funcione correctamente."
   ]
  },
  {
   "cell_type": "code",
   "execution_count": null,
   "id": "6fbc5265",
   "metadata": {},
   "outputs": [],
   "source": [
    "def saludar():\n",
    "    print(\"¡Ciao!\")\n",
    "\n",
    "saludar()  # Output: ¡Ciao!"
   ]
  },
  {
   "cell_type": "markdown",
   "id": "e3d4e9fc",
   "metadata": {},
   "source": [
    "### Funciones triviales y la palabra clave `pass`:\n",
    "\n",
    "En el ejemplo anterior, sabíamos cómo saludar, por lo que estábamos listos para escribir el contenido de nuestra función. Sin embargo, en muchas ocasiones, cuando estamos diseñando o esbozando nuestro código, sabemos que necesitamos una función, pero aún no estamos seguros de cómo resolveremos el problema o tarea que ella debe realizar. Es como tener una idea, pero no tener aún todas las herramientas para llevarla a cabo. En esos casos, Python nos proporciona la palabra clave 'pass', que actúa como un marcador de posición temporal, indicándonos que esa función estará completada en el futuro."
   ]
  },
  {
   "cell_type": "code",
   "execution_count": null,
   "id": "dac855aa",
   "metadata": {},
   "outputs": [],
   "source": [
    "def funcion_trivial():\n",
    "    pass # TODO: completar más tarde"
   ]
  },
  {
   "cell_type": "markdown",
   "id": "7959a318",
   "metadata": {},
   "source": [
    "### Retorno de valores:\n",
    "\n",
    "Mientras que algunas funciones muestran resultados o modifican variables, otras devuelven valores que pueden ser utilizados o almacenados."
   ]
  },
  {
   "cell_type": "code",
   "execution_count": null,
   "id": "ee440c98",
   "metadata": {},
   "outputs": [],
   "source": [
    "def area_circulo(radio):\n",
    "    return 3.141592653589793 * (radio**2)\n",
    "\n",
    "area = area_circulo(5)\n",
    "print(area)  # Output: 78.53981633974483"
   ]
  },
  {
   "cell_type": "markdown",
   "id": "fe4ea28f",
   "metadata": {},
   "source": [
    "### Especificando el nombre de los parámetros:\n",
    "\n",
    "Las funciones pueden recibir datos específicos para trabajar, estos se definen como parámetros. Una característica poderosa de Python es que puedes especificar explícitamente el nombre del parámetro al invocar la función, permitiendo que los argumentos se pasen en cualquier orden."
   ]
  },
  {
   "cell_type": "code",
   "execution_count": null,
   "id": "afc538b7",
   "metadata": {},
   "outputs": [],
   "source": [
    "def presentarse(nombre, edad):\n",
    "    print(f\"Soy {nombre} y tengo {edad} años.\")\n",
    "\n",
    "presentarse(edad=30, nombre=\"Ana\")  # Output: Soy Ana y tengo 30 años."
   ]
  },
  {
   "cell_type": "markdown",
   "id": "d677d7f4",
   "metadata": {},
   "source": [
    "### Funciones que devuelven más de un resultado:\n",
    "\n",
    "Una función puede devolver múltiples resultados utilizando una tupla. Por ejemplo, si quieres obtener tanto el cociente como el resto de una división:"
   ]
  },
  {
   "cell_type": "code",
   "execution_count": null,
   "id": "3082654e",
   "metadata": {},
   "outputs": [],
   "source": [
    "def dividir(a, b):\n",
    "    cociente = a // b\n",
    "    resto = a % b\n",
    "    return cociente, resto"
   ]
  },
  {
   "cell_type": "markdown",
   "id": "6431adc9",
   "metadata": {},
   "source": [
    "### Funciones como objetos y parámetros:\n",
    "\n",
    "En Python, todo es un objeto. Esto incluye números, cadenas, listas, y sí, incluso las funciones. Esta naturaleza de las funciones abre un mundo de posibilidades que no se encuentra en todos los lenguajes de programación. Vamos a desglosar este concepto:"
   ]
  },
  {
   "cell_type": "markdown",
   "id": "aa17d678",
   "metadata": {},
   "source": [
    "#### 1. Funciones asignadas a variables:\n",
    "\n",
    "Dado que las funciones son objetos, puedes asignarlas a variables, al igual que harías con cualquier otro tipo de dato."
   ]
  },
  {
   "cell_type": "code",
   "execution_count": null,
   "id": "c648c546",
   "metadata": {},
   "outputs": [],
   "source": [
    "def saludar():\n",
    "    return \"¡Hola!\"\n",
    "\n",
    "mi_funcion = saludar\n",
    "print(mi_funcion())"
   ]
  },
  {
   "cell_type": "markdown",
   "id": "599c065a",
   "metadata": {},
   "source": [
    "En el ejemplo anterior, mi_funcion es ahora una referencia a saludar, y cuando la invocas, imprime \"¡Hola!\"."
   ]
  },
  {
   "cell_type": "markdown",
   "id": "2fa0902d",
   "metadata": {},
   "source": [
    "#### 2. Funciones pasadas como argumentos:\n",
    "\n",
    "En muchas ocasiones, nos encontramos con la necesidad de realizar operaciones repetitivas en listas, como filtrar elementos bajo ciertas condiciones. Imagina que tenemos una función llamada filtrar_pares que recibe una lista de números enteros y devuelve otra que contiene solo los números pares de la lista original."
   ]
  },
  {
   "cell_type": "code",
   "execution_count": null,
   "id": "8d9f78e6",
   "metadata": {},
   "outputs": [],
   "source": [
    "def filtrar_pares(numeros):\n",
    "    resultado = []\n",
    "    for numero in numeros:\n",
    "        if numero % 2 == 0:\n",
    "            resultado.append(numero)\n",
    "    return resultado\n",
    "\n",
    "numeros = [-4,-3,-2,-1,0,1, 2, 3, 4, 5, 6]\n",
    "filtrar_pares(numeros)\n"
   ]
  },
  {
   "cell_type": "markdown",
   "id": "52676954",
   "metadata": {},
   "source": [
    "Esta función es útil, pero es muy específica. ¿Qué pasaría si quisiéramos filtrar números mayores que cero, o cualquier otra condición? ¿Crearíamos una nueva función para cada condición? Eso no sería muy eficiente.\n",
    "\n",
    "Una solución es crear una función más general, llamada filtro, que reciba dos argumentos: una lista de números y una función que determine la condición de filtrado."
   ]
  },
  {
   "cell_type": "code",
   "execution_count": null,
   "id": "cc16f475",
   "metadata": {},
   "outputs": [],
   "source": [
    "def filtro(condicion, numeros):\n",
    "    resultado = []\n",
    "    for numero in numeros:\n",
    "        if condicion(numero):\n",
    "            resultado.append(numero)\n",
    "    return resultado\n"
   ]
  },
  {
   "cell_type": "markdown",
   "id": "750a4c2f",
   "metadata": {},
   "source": [
    "Con esta función, podemos definir cualquier condición de filtrado que deseemos, simplemente pasando una función como argumento. Por ejemplo, podemos definir una función es_par para filtrar números pares y una función es_positivo para filtrar números positivos."
   ]
  },
  {
   "cell_type": "code",
   "execution_count": null,
   "id": "41cde93b",
   "metadata": {},
   "outputs": [],
   "source": [
    "def es_par(numero):\n",
    "    return numero % 2 == 0\n",
    "\n",
    "def es_positivo(numero):\n",
    "    return numero > 0\n",
    "\n",
    "def es_negativo(numero):\n",
    "    return numero< 0"
   ]
  },
  {
   "cell_type": "markdown",
   "id": "c6cc20b7",
   "metadata": {},
   "source": [
    "Ahora, podemos usar la función filtro con cualquiera de estas condiciones, o cualquier otra que definamos en el futuro."
   ]
  },
  {
   "cell_type": "code",
   "execution_count": null,
   "id": "3cda3bc5",
   "metadata": {},
   "outputs": [],
   "source": [
    "print(filtro(es_par, numeros))\n",
    "print(filtro(es_positivo, numeros))\n",
    "print(filtro(es_negativo, numeros))\n",
    "\n"
   ]
  },
  {
   "cell_type": "markdown",
   "id": "ef65cc89",
   "metadata": {},
   "source": [
    "Este enfoque nos brinda una gran flexibilidad, ya que podemos combinar diferentes funciones y condiciones de filtrado sin tener que reescribir la lógica principal de filtrado.\n",
    "\n",
    "_Nota: Gracias, Commit That Line!_"
   ]
  },
  {
   "cell_type": "markdown",
   "id": "02ea448b",
   "metadata": {},
   "source": [
    "#### 3. Funciones que retornan funciones:\n",
    "\n",
    "Las funciones también pueden retornar otras funciones. Esto puede ser útil en situaciones donde necesitas crear una función \"sobre la marcha\" basada en ciertos parámetros."
   ]
  },
  {
   "cell_type": "code",
   "execution_count": null,
   "id": "a89aed25",
   "metadata": {},
   "outputs": [],
   "source": [
    "def potencia(n):\n",
    "    def elevar(x):\n",
    "        return x ** n\n",
    "    return elevar\n",
    "\n",
    "cuadrado = potencia(2)\n",
    "print(cuadrado(3))  # Imprimirá 9 porque 3 al cuadrado es 9\n"
   ]
  },
  {
   "cell_type": "markdown",
   "id": "1fd235de",
   "metadata": {},
   "source": [
    "En este caso, potencia es una función que genera y devuelve una nueva función (elevar) que elevará sus argumentos a la potencia n.\n",
    "\n",
    "Estas características de las funciones en Python permiten patrones de diseño y programación avanzados, como la programación funcional, y son una de las razones por las que Python es tan versátil y poderoso."
   ]
  },
  {
   "cell_type": "markdown",
   "id": "724cf11a",
   "metadata": {},
   "source": [
    "### Funciones anónimas (lambda):\n",
    "\n",
    "A veces, necesitamos crear funciones pequeñas para tareas específicas y temporales. Python nos permite hacer esto con funciones `lambda`."
   ]
  },
  {
   "cell_type": "code",
   "execution_count": null,
   "id": "b9806251",
   "metadata": {},
   "outputs": [],
   "source": [
    "numeros = [-5, 3, -2, 8, -7]\n",
    "ordenado_absoluto = sorted(numeros, key=lambda x: abs(x))\n",
    "ordenado_absoluto = sorted(numeros)\n",
    "ordenado_absoluto\n"
   ]
  },
  {
   "cell_type": "markdown",
   "id": "cf45b7eb",
   "metadata": {},
   "source": [
    "### Documentación de funciones:\n",
    "\n",
    "Es crucial documentar nuestras funciones. La documentación ayuda a otros (¡y a nosotros mismos!) a entender qué hace una función y cómo usarla."
   ]
  },
  {
   "cell_type": "code",
   "execution_count": null,
   "id": "be85e6e0",
   "metadata": {},
   "outputs": [],
   "source": [
    "def suma(a, b):\n",
    "    \"\"\"\n",
    "    Suma dos números y devuelve el resultado.\n",
    "    \n",
    "    Parámetros:\n",
    "    - a: Primer número.\n",
    "    - b: Segundo número.\n",
    "    \n",
    "    Retorna:\n",
    "    Suma de a y b.\n",
    "    \"\"\"\n",
    "    return a + b"
   ]
  },
  {
   "cell_type": "markdown",
   "id": "01c568c2",
   "metadata": {},
   "source": [
    "### Variables locales y globales:\n",
    "\n",
    "Las variables que defines dentro de una función tienen un ámbito local, lo que significa que no puedes acceder a ellas fuera de esa función. Pero, hay algo llamado variables globales. Estas son variables que se definen fuera de cualquier función y están disponibles en todo el código, tanto dentro como fuera de las funciones. Aunque técnicamente es posible modificar una variable global desde dentro de una función, ¡se desaconseja hacerlo! "
   ]
  },
  {
   "cell_type": "code",
   "execution_count": null,
   "id": "62cc9ca4",
   "metadata": {},
   "outputs": [],
   "source": [
    "variable_global = \"Soy global\"\n",
    "\n",
    "def modificar_global():\n",
    "    global variable_global\n",
    "    variable_global = \"He sido modificada\""
   ]
  },
  {
   "cell_type": "markdown",
   "id": "01dc0c54",
   "metadata": {},
   "source": [
    "<span style=\"color: red;font-size: 20px;\">¡Durante este curso, queda terminantemente prohibido modificar variables globales dentro de una función!</span>"
   ]
  },
  {
   "cell_type": "markdown",
   "id": "c886705f",
   "metadata": {},
   "source": [
    "### Desafío 1:\n",
    "\n",
    "Crea una función que tome una lista de números y devuelva la suma y el promedio de esos números."
   ]
  },
  {
   "cell_type": "code",
   "execution_count": null,
   "id": "19f2b699",
   "metadata": {},
   "outputs": [],
   "source": [
    "def suma_y_promedio(numeros):\n",
    "    suma = sum(numeros)\n",
    "    promedio = suma / len(numeros) if numeros else 0\n",
    "    return suma, promedio\n",
    "\n",
    "# Ejemplo:\n",
    "lista = [4, 8, 15, 16, 23, 42]\n",
    "resultado = suma_y_promedio(lista)\n",
    "print(\"Suma:\", resultado[0], \"Promedio:\", resultado[1])"
   ]
  },
  {
   "cell_type": "markdown",
   "id": "b1d125be",
   "metadata": {},
   "source": [
    "Se utiliza la función integrada sum() para calcular la suma de todos los elementos de la lista. Luego, para obtener el promedio, se divide la suma entre la longitud de la lista con len(), asegurando con una condición que, si la lista está vacía, el promedio sea cero y no ocurra un error de división. Finalmente, la función retorna ambos valores en forma de tupla, lo que permite al usuario recibir dos resultados al mismo tiempo."
   ]
  },
  {
   "cell_type": "markdown",
   "id": "f5388aa0",
   "metadata": {},
   "source": [
    "### Desafío 2:\n",
    "\n",
    "Diseña una función que tome una cadena y devuelva la misma cadena, pero con el primer carácter de cada palabra en mayúsculas."
   ]
  },
  {
   "cell_type": "code",
   "execution_count": null,
   "id": "6e655eab",
   "metadata": {},
   "outputs": [],
   "source": [
    "def capitalizar_palabras(cadena):\n",
    "    return cadena.title()\n",
    "\n",
    "# Ejemplo:\n",
    "texto = \"la vida es bella\"\n",
    "print(capitalizar_palabras(texto))"
   ]
  },
  {
   "cell_type": "markdown",
   "id": "a63a30d5",
   "metadata": {},
   "source": [
    "Se diseña la función capitalizar_palabras que recibe un texto y transforma el primer carácter de cada palabra en mayúscula. Para ello, se utiliza el método title(), que automáticamente realiza esta transformación en cadenas de texto. De esta manera, al llamar a la función con una frase en minúsculas, se obtiene como salida la misma frase pero con un formato de escritura más formal y estandarizado."
   ]
  },
  {
   "cell_type": "markdown",
   "id": "30ef6503",
   "metadata": {},
   "source": [
    "### Desafío 3:\n",
    "\n",
    "Construye una función que tome dos listas y devuelva `True` si tienen al menos un elemento en común, de lo contrario, que devuelva `False`."
   ]
  },
  {
   "cell_type": "code",
   "execution_count": null,
   "id": "4ab60f75",
   "metadata": {},
   "outputs": [],
   "source": [
    "def tienen_elemento_comun(lista1, lista2):\n",
    "    return bool(set(lista1) & set(lista2))\n",
    "\n",
    "# Ejemplo:\n",
    "a = [1, 2, 3, 4]\n",
    "b = [5, 6, 7, 3]\n",
    "c = [8, 9]\n",
    "\n",
    "print(tienen_elemento_comun(a, b))  \n",
    "print(tienen_elemento_comun(a, c))  "
   ]
  },
  {
   "cell_type": "markdown",
   "id": "a130a17f",
   "metadata": {},
   "source": [
    "La función tienen_elemento_comun se construye aprovechando las estructuras de conjuntos (set), que permiten operaciones matemáticas rápidas como la intersección. Se convirten ambas listas en conjuntos y se aplica el operador & para obtener los elementos que comparten. Si el resultado no está vacío, significa que existe al menos un elemento común, y con bool() se retorna True; en caso contrario, se devuelve False."
   ]
  },
  {
   "cell_type": "markdown",
   "id": "6a2414b9",
   "metadata": {},
   "source": [
    "### Desafío 4: Algoritmo MCD\n",
    "\n",
    "El Máximo Común Divisor (MCD) es un concepto matemático que ha sido estudiado desde tiempos antiguos. Atribuido a Euclides, el algoritmo para determinarlo es elegante y eficiente. Tu tarea es implementar una función que calcule el MCD de dos números utilizando el algoritmo de Euclides."
   ]
  },
  {
   "cell_type": "code",
   "execution_count": null,
   "id": "c268743a",
   "metadata": {},
   "outputs": [],
   "source": [
    "def mcd(a, b):\n",
    "    while b != 0:          # mientras b no sea 0\n",
    "        a, b = b, a % b    # se intercambian valores\n",
    "    return a\n",
    "\n",
    "# Ejemplo:\n",
    "print(mcd(48, 18))  "
   ]
  },
  {
   "cell_type": "markdown",
   "id": "66480986",
   "metadata": {},
   "source": [
    "Se considera el algoritmo de Euclides, que establece que el máximo común divisor de dos números a y b es el mismo que el de b y el resto de dividir a entre b. El proceso se repite hasta que el resto sea cero, momento en el cual el divisor actual corresponde al MCD. En la implementación, se utiliza un ciclo while que continúa ejecutándose mientras b no sea cero; dentro de cada iteración, se actualizan los valores de a y b utilizando la operación de módulo (%). Finalmente, cuando el ciclo termina, se retorna el valor de a, que representa el MCD de los dos números ingresados."
   ]
  },
  {
   "cell_type": "markdown",
   "id": "5409680c",
   "metadata": {},
   "source": [
    "### Desafío 5: Palíndromo\n",
    "\n",
    "Crea una función llamada es_palindromo que tome una una cadena y devuelva true si es palindromo o false si no lo es."
   ]
  },
  {
   "cell_type": "code",
   "execution_count": null,
   "id": "8b3d496f",
   "metadata": {},
   "outputs": [],
   "source": [
    "def es_palindromo(cadena):\n",
    "    cadena = cadena.lower().replace(\" \", \"\")  # minúsculas y sin espacios\n",
    "    return cadena == cadena[::-1]\n",
    "\n",
    "# Ejemplo de uso:\n",
    "print(es_palindromo(\"Anilina\"))      \n",
    "print(es_palindromo(\"Hola mundo\"))  "
   ]
  },
  {
   "cell_type": "markdown",
   "id": "c40c1821",
   "metadata": {},
   "source": [
    "Primero se asegura que la comparación no dependa de mayúsculas ni espacios, por lo que se transforma la cadena a minúsculas con lower() y se elimina los espacios usando replace(\" \", \"\"). Luego, se aprovecha la notación de rebanado ([::-1]) para obtener la cadena invertida. El algoritmo simplemente compara la cadena procesada con su versión invertida: si son iguales, significa que la palabra o frase es un palíndromo y la función devuelve True; de lo contrario, retorna False. "
   ]
  },
  {
   "cell_type": "markdown",
   "id": "eedcec5a",
   "metadata": {},
   "source": [
    "### Desafío 6: Verificación y Cálculo de Números Primos\n",
    "\n",
    "Crea dos funciones y un `main` que te permita trabajar con números primos, un concepto matemático fundamental. En este desafío, deberás:\n",
    "\n",
    "1. Crear una función que verifique si un número es primo.\n",
    "2. Crear otra función que cuente la cantidad de números primos dentro de una lista dada.\n",
    "3. Implementar un `main` que integre estas funciones y muestre los resultados.\n",
    "\n",
    "Asegúrate de que tu código esté bien documentado y que las funciones sean reutilizables."
   ]
  },
  {
   "cell_type": "code",
   "execution_count": null,
   "id": "937a44cc",
   "metadata": {},
   "outputs": [],
   "source": [
    "def es_primo(n):\n",
    "    \"\"\"\n",
    "    Se verifica si un número es primo.\n",
    "    Un número primo solo es divisible por 1 y por sí mismo.\n",
    "    \n",
    "    Parámetros:\n",
    "    - n: número entero a verificar\n",
    "    \n",
    "    Retorna:\n",
    "    - True si n es primo, False en caso contrario\n",
    "    \"\"\"\n",
    "    if n < 2:\n",
    "        return False\n",
    "    for i in range(2, int(n**0.5) + 1):  # comprobación hasta raíz cuadrada\n",
    "        if n % i == 0:\n",
    "            return False\n",
    "    return True\n",
    "\n",
    "\n",
    "def contar_primos(lista):\n",
    "    \"\"\"\n",
    "    Se cuenta cuántos números primos hay en una lista de enteros.\n",
    "    \n",
    "    Parámetros:\n",
    "    - lista: lista de números enteros\n",
    "    \n",
    "    Retorna:\n",
    "    - cantidad de números primos en la lista\n",
    "    \"\"\"\n",
    "    return sum(1 for numero in lista if es_primo(numero))\n",
    "\n",
    "\n",
    "def main():\n",
    "    \"\"\"\n",
    "    Función principal que integra la verificación y el conteo de primos.\n",
    "    \"\"\"\n",
    "    # Lista de ejemplo\n",
    "    numeros = [2, 3, 4, 5, 10, 11, 15, 17, 19, 20]\n",
    "    \n",
    "    # Se verifica si un número es primo\n",
    "    num = 11\n",
    "    print(f\"¿{num} es primo? {es_primo(num)}\")\n",
    "    \n",
    "    # Se cuenta primos en la lista\n",
    "    total_primos = contar_primos(numeros)\n",
    "    print(f\"En la lista {numeros} hay {total_primos} números primos.\")\n",
    "\n",
    "\n",
    "# Se ejecuta el programa\n",
    "if __name__ == \"__main__\":\n",
    "    main()"
   ]
  },
  {
   "cell_type": "markdown",
   "id": "a014c5d5",
   "metadata": {},
   "source": [
    "Se diseña la función es_primo, que verifica si un número es primo comprobando si es menor que 2 (en cuyo caso no lo es) y luego se utiliza un bucle que prueba divisores desde 2 hasta la raíz cuadrada del número. Después, se crea la función contar_primos, que recibe una lista de números y utiliza la función es_primo que revisa cada elemento, acumulando con sum() la cantidad de valores verdaderos encontrados. Finalmente, se implementa un main que integra ambas funciones: primero muestra si un número específico es primo y luego calcula cuántos primos contiene una lista de ejemplo."
   ]
  }
 ],
 "metadata": {
  "kernelspec": {
   "display_name": "Python 3",
   "language": "python",
   "name": "python3"
  },
  "language_info": {
   "codemirror_mode": {
    "name": "ipython",
    "version": 3
   },
   "file_extension": ".py",
   "mimetype": "text/x-python",
   "name": "python",
   "nbconvert_exporter": "python",
   "pygments_lexer": "ipython3",
   "version": "3.11.1"
  }
 },
 "nbformat": 4,
 "nbformat_minor": 5
}
